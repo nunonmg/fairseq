{
 "cells": [
  {
   "cell_type": "code",
   "execution_count": 2,
   "metadata": {},
   "outputs": [],
   "source": [
    "import pickle\n",
    "import pandas as pd\n",
    "import numpy as np\n",
    "from tqdm import tqdm"
   ]
  },
  {
   "cell_type": "code",
   "execution_count": 4,
   "metadata": {},
   "outputs": [
    {
     "name": "stderr",
     "output_type": "stream",
     "text": [
      "100%|██████████| 827858/827858 [03:43<00:00, 3696.71it/s]\n"
     ]
    }
   ],
   "source": [
    "lp = \"en-ru\"\n",
    "ckpt = \"checkpoint_best\"\n",
    "\n",
    "model_path = \"/home/nunomg/mt-hallucinations/HALO/fairseq/data-bin/wmt18_\" + lp + \"_heldout/\" + ckpt\n",
    "stats_path = model_path + \"/stats/\"\n",
    "attn_list = {}\n",
    "with open(stats_path + \"stats_test_attention_beam5.pkl\", 'rb') as f:\n",
    "    x_attn = pickle.load(f)\n",
    "\n",
    "df = pd.read_pickle(model_path + \"/dataframes/dataframe_test_beam5.pkl\")\n",
    "\n",
    "attn_samples = []\n",
    "token_logprobs_samples = []\n",
    "for idx in tqdm(df.index.values):\n",
    "    src_len = len(df.loc[idx][\"src_ids\"])\n",
    "    mt_len = len(df.loc[idx][\"mt_ids\"])\n",
    "    attn = np.array(x_attn[idx])\n",
    "    if attn.shape != (src_len, mt_len):\n",
    "        attn = attn[~np.all(attn == 0, axis=1)]\n",
    "    assert attn.shape == (src_len, mt_len)\n",
    "    attn_samples.append(attn)\n",
    "\n",
    "with open(stats_path + \"stats_test_attention_beam5_proc.pkl\", \"wb\") as f:\n",
    "    pickle.dump(attn_samples, f)"
   ]
  },
  {
   "cell_type": "code",
   "execution_count": null,
   "metadata": {},
   "outputs": [],
   "source": []
  }
 ],
 "metadata": {
  "interpreter": {
   "hash": "98a7630fb2e4dff2ac16a146cd9f37c0520495fbe7eec2b40bcb62515674def6"
  },
  "kernelspec": {
   "display_name": "Python 3.8.10 ('hall-env')",
   "language": "python",
   "name": "python3"
  },
  "language_info": {
   "codemirror_mode": {
    "name": "ipython",
    "version": 3
   },
   "file_extension": ".py",
   "mimetype": "text/x-python",
   "name": "python",
   "nbconvert_exporter": "python",
   "pygments_lexer": "ipython3",
   "version": "3.8.10"
  },
  "orig_nbformat": 4
 },
 "nbformat": 4,
 "nbformat_minor": 2
}
