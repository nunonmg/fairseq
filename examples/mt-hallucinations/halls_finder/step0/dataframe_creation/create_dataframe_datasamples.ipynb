{
 "cells": [
  {
   "cell_type": "code",
   "execution_count": 1,
   "metadata": {},
   "outputs": [],
   "source": [
    "import pandas as pd \n",
    "import numpy as np \n",
    "import pickle\n",
    "from tqdm import tqdm"
   ]
  },
  {
   "cell_type": "code",
   "execution_count": 2,
   "metadata": {},
   "outputs": [],
   "source": [
    "def create_datasamples_df(lp: \"str\", ckpt: \"str\", N: int):\n",
    "    model_path = \"/home/nunomg/mt-hallucinations/HALO/fairseq/data-bin/wmt18_\" + lp + \"_heldout/\" + ckpt + \"/dataframes/\"\n",
    "    heldoutwstats_save_path = model_path + \"heldoutwstats.pkl\"\n",
    "    datastats_save_path = model_path + \"datasampleswstats.pkl\"\n",
    "    \n",
    "    df_heldout = pd.read_pickle(heldoutwstats_save_path)\n",
    "    df_datastats = df_heldout.sample(n=N, random_state=int(42))\n",
    "    df_datastats.to_pickle(datastats_save_path)"
   ]
  },
  {
   "cell_type": "code",
   "execution_count": 3,
   "metadata": {},
   "outputs": [],
   "source": [
    "create_datasamples_df(\"de-en\", \"checkpoint_best\", 20000)"
   ]
  },
  {
   "cell_type": "code",
   "execution_count": 4,
   "metadata": {},
   "outputs": [],
   "source": [
    "create_datasamples_df(\"en-ru\", \"checkpoint_best\", 20000)"
   ]
  }
 ],
 "metadata": {
  "kernelspec": {
   "display_name": "hall-env",
   "language": "python",
   "name": "hall-env"
  },
  "language_info": {
   "codemirror_mode": {
    "name": "ipython",
    "version": 3
   },
   "file_extension": ".py",
   "mimetype": "text/x-python",
   "name": "python",
   "nbconvert_exporter": "python",
   "pygments_lexer": "ipython3",
   "version": "3.8.10"
  },
  "orig_nbformat": 4
 },
 "nbformat": 4,
 "nbformat_minor": 2
}
