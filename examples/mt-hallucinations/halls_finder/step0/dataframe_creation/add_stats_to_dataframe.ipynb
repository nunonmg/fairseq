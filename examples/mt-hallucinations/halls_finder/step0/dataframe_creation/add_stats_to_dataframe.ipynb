{
 "cells": [
  {
   "cell_type": "code",
   "execution_count": 27,
   "metadata": {},
   "outputs": [],
   "source": [
    "import pandas as pd \n",
    "import numpy as np \n",
    "import pickle\n",
    "from tqdm import tqdm"
   ]
  },
  {
   "cell_type": "code",
   "execution_count": 4,
   "metadata": {},
   "outputs": [],
   "source": [
    "df_halls = pd.read_pickle(\"/home/nunomg/mt-hallucinations/HALO/fairseq/data-bin/wmt18_de-en_heldout/checkpoint_best/dataframes/heldout_lowcomet_w_bicleaner.pkl\")\n",
    "df_data = pd.read_pickle(\"/home/nunomg/mt-hallucinations/HALO/fairseq/data-bin/wmt18_de-en_heldout/checkpoint_best/dataframes/datasampleswstats.pkl\")"
   ]
  },
  {
   "cell_type": "code",
   "execution_count": 17,
   "metadata": {},
   "outputs": [],
   "source": [
    "with open(\"/home/nunomg/mt-hallucinations/HALO/fairseq/data-bin/wmt18_de-en_heldout/checkpoint_best/mc-dropout-scores-lowcomet_w_bicleaner/agg_ensembleprobs_scores_w_bicleaner.pkl\", \"rb\") as f:\n",
    "    scores_lowcomet = pickle.load(f)\n",
    "with open(\"/home/nunomg/mt-hallucinations/HALO/fairseq/data-bin/wmt18_de-en_heldout/checkpoint_best/mc-dropout-scores-datasamples/agg_ensembleprobs_scores.pkl\", \"rb\") as f:\n",
    "    scores_datasamples = pickle.load(f)"
   ]
  },
  {
   "cell_type": "code",
   "execution_count": 18,
   "metadata": {},
   "outputs": [],
   "source": [
    "mean_lc, min_lc, std_lc = scores_lowcomet\n",
    "mean_data, min_data, std_data = scores_datasamples"
   ]
  },
  {
   "cell_type": "code",
   "execution_count": 24,
   "metadata": {},
   "outputs": [],
   "source": [
    "df_data[\"var_probs\"] = list(np.array(std_data) ** 2)\n",
    "df_halls[\"var_probs\"] = list(np.array(std_lc) ** 2)"
   ]
  },
  {
   "cell_type": "code",
   "execution_count": null,
   "metadata": {},
   "outputs": [],
   "source": []
  }
 ],
 "metadata": {
  "interpreter": {
   "hash": "98a7630fb2e4dff2ac16a146cd9f37c0520495fbe7eec2b40bcb62515674def6"
  },
  "kernelspec": {
   "display_name": "hall-env",
   "language": "python",
   "name": "hall-env"
  },
  "language_info": {
   "codemirror_mode": {
    "name": "ipython",
    "version": 3
   },
   "file_extension": ".py",
   "mimetype": "text/x-python",
   "name": "python",
   "nbconvert_exporter": "python",
   "pygments_lexer": "ipython3",
   "version": "3.8.10"
  },
  "orig_nbformat": 4
 },
 "nbformat": 4,
 "nbformat_minor": 2
}
