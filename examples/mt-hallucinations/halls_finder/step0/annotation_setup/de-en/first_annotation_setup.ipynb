{
 "cells": [
  {
   "cell_type": "markdown",
   "metadata": {},
   "source": [
    "# Annotation Setup for DE-EN"
   ]
  },
  {
   "cell_type": "markdown",
   "metadata": {},
   "source": [
    "We are going to create an annotation batch that consists of 500 samples, such that:\n",
    "* 450 samples come from the batch of 5000 low comet-qe translations\n",
    "* 50 samples come from a control group (20 good translations and 30 hallucinations for which we know the correct annotation)"
   ]
  },
  {
   "cell_type": "code",
   "execution_count": 1,
   "metadata": {},
   "outputs": [],
   "source": [
    "import pandas as pd \n",
    "import numpy as np \n",
    "import pickle\n",
    "from tqdm import tqdm"
   ]
  },
  {
   "cell_type": "markdown",
   "metadata": {},
   "source": [
    "## Low COMET-QE Translations"
   ]
  },
  {
   "cell_type": "code",
   "execution_count": 127,
   "metadata": {},
   "outputs": [],
   "source": [
    "df_lowcomet = pd.read_pickle(\"/home/nunomg/mt-hallucinations/HALO/fairseq/data-bin/wmt18_de-en_heldout/checkpoint_best/dataframes/heldout_lowcomet_w_bicleaner.pkl\")"
   ]
  },
  {
   "cell_type": "code",
   "execution_count": 129,
   "metadata": {},
   "outputs": [],
   "source": [
    "df_laser = pd.read_pickle(\"/home/nunomg/mt-hallucinations/HALO/fairseq/data-bin/wmt18_de-en_heldout/checkpoint_best/dataframes/heldout_lowlaser_w_bicleaner.pkl\")"
   ]
  },
  {
   "cell_type": "code",
   "execution_count": 135,
   "metadata": {},
   "outputs": [
    {
     "data": {
      "text/plain": [
       "474"
      ]
     },
     "execution_count": 135,
     "metadata": {},
     "output_type": "execute_result"
    }
   ],
   "source": [
    "pd.concat([df_lowcomet.sort_values(by=\"comet-qe\")[:5000], df_laser.sort_values(by=\"laser\")[:5000]]).index.duplicated().sum()"
   ]
  },
  {
   "cell_type": "markdown",
   "metadata": {},
   "source": [
    "### Further finer-grained filtering"
   ]
  },
  {
   "cell_type": "markdown",
   "metadata": {},
   "source": [
    "Remove source sentences that contain multiple sentences (errors in segmentation)"
   ]
  },
  {
   "cell_type": "code",
   "execution_count": 95,
   "metadata": {},
   "outputs": [
    {
     "name": "stderr",
     "output_type": "stream",
     "text": [
      "[nltk_data] Downloading package punkt to /home/nunomg/nltk_data...\n",
      "[nltk_data]   Package punkt is already up-to-date!\n",
      "100%|██████████| 10000/10000 [00:01<00:00, 6722.74it/s]\n",
      "100%|██████████| 10000/10000 [00:00<00:00, 246021.88it/s]\n"
     ]
    }
   ],
   "source": [
    "import nltk\n",
    "nltk.download('punkt')\n",
    "from nltk.tokenize import sent_tokenize\n",
    "\n",
    "idxs_to_drop = []\n",
    "for idx in tqdm(df_lowcomet.index):\n",
    "    src_sentence = df_lowcomet.loc[idx].src\n",
    "    if len(sent_tokenize(src_sentence, language=\"german\"))!=1:\n",
    "        idxs_to_drop.append(idx)\n",
    "\n",
    "mult_sentence_flag = np.zeros(len(df_lowcomet))\n",
    "j = 0\n",
    "for i in tqdm(df_lowcomet.index):\n",
    "    if i in idxs_to_drop:\n",
    "        mult_sentence_flag[j] = int(1)\n",
    "    j += 1\n",
    "mult_sentence_flags = [int(val) for val in mult_sentence_flag]\n",
    "\n",
    "df_lowcomet[\"mult_sentence_flag\"] = mult_sentence_flags\n",
    "df_lowcomet = df_lowcomet.loc[df_lowcomet[\"mult_sentence_flag\"]==0]"
   ]
  },
  {
   "cell_type": "markdown",
   "metadata": {},
   "source": [
    "Remove source sentences that contain weird characters"
   ]
  },
  {
   "cell_type": "code",
   "execution_count": 96,
   "metadata": {},
   "outputs": [
    {
     "name": "stderr",
     "output_type": "stream",
     "text": [
      "100%|██████████| 9383/9383 [00:00<00:00, 10473.79it/s]\n",
      "100%|██████████| 9383/9383 [00:00<00:00, 335757.59it/s]\n"
     ]
    }
   ],
   "source": [
    "list_of_characters = [\"√\", \"】\",\"【\", \"Ћ\", \"Џ\", \"ờ\", \"Ī\", \"\\x92 \"]\n",
    "cyrillic_letters = u\"абвгдеёжзийклмнопрстуфхцчшщъыьэюяАБВГДЕЁЖЗИЙКЛМНОПРСТУФХЦЧШЩЪЫЬЭЮЯ\"\n",
    "cyrillic_letters = [char for char in cyrillic_letters]\n",
    "special_characters = list_of_characters + cyrillic_letters\n",
    "\n",
    "idxs_to_drop = []\n",
    "for idx in tqdm(df_lowcomet.index):\n",
    "    src_sentence = df_lowcomet.loc[idx].src\n",
    "    if any(char in src_sentence for char in special_characters):\n",
    "        idxs_to_drop.append(idx)\n",
    "\n",
    "special_char_flag = np.zeros(len(df_lowcomet))\n",
    "j = 0\n",
    "for i in tqdm(df_lowcomet.index):\n",
    "    if i in idxs_to_drop:\n",
    "        special_char_flag[j] = int(1)\n",
    "    j += 1\n",
    "special_char_flags = [int(val) for val in special_char_flag]\n",
    "\n",
    "df_lowcomet[\"special_char_flag\"] = special_char_flags\n",
    "df_lowcomet = df_lowcomet.loc[df_lowcomet[\"special_char_flag\"]==0]"
   ]
  },
  {
   "cell_type": "markdown",
   "metadata": {},
   "source": [
    "Remove sentences that might contain profanity/adult content"
   ]
  },
  {
   "cell_type": "code",
   "execution_count": 97,
   "metadata": {},
   "outputs": [
    {
     "name": "stderr",
     "output_type": "stream",
     "text": [
      "100%|██████████| 8969/8969 [00:02<00:00, 3869.17it/s]\n",
      "100%|██████████| 8969/8969 [00:00<00:00, 611805.76it/s]\n"
     ]
    }
   ],
   "source": [
    "from nltk.stem import *\n",
    "list_of_words = [\"porn\", \"anal\", \"masturbation\", \"oral\", \"sex\", \"ass\", \"cock\", \"dick\", \"fuck\", \"suck\", \"interracial\", \"orgasm\", \"amateur\", \"nipples\", \"pussy\",\\\n",
    "    \"lesbian\", \"strapon\", \"gay\", \"cunt\", \"fucked\", \"fucking\", \"fucks\", \"cunts\", \"cocks\", \"dicks\", \"fucking\", \"suckin\", \"bitch\", \"bitches\", \"stud\", \"studs\", \"shagging\", \"horny\", \"erotic\", \\\n",
    "        \"load\", \"unload\", \"horned\", \"piss\", \"pissed\", \"pissing\"]\n",
    "\n",
    "ps = PorterStemmer()\n",
    "list_of_stems = [ps.stem(word) for word in list_of_words]\n",
    "\n",
    "idxs_to_drop = []\n",
    "for idx in tqdm(df_lowcomet.index):\n",
    "    ref_sentence = df_lowcomet.loc[idx].ref.lower().split()\n",
    "    ref_sentence = [ps.stem(word) for word in ref_sentence]\n",
    "    if any(word in ref_sentence for word in list_of_stems):\n",
    "        idxs_to_drop.append(idx)\n",
    "\n",
    "adult_content_flag = np.zeros(len(df_lowcomet))\n",
    "j = 0\n",
    "for i in tqdm(df_lowcomet.index):\n",
    "    if i in idxs_to_drop:\n",
    "        adult_content_flag[j] = int(1)\n",
    "    j += 1\n",
    "adult_content_flags = [int(val) for val in adult_content_flag]\n",
    "\n",
    "df_lowcomet[\"adult_content_flag\"] = adult_content_flags\n",
    "df_lowcomet = df_lowcomet.loc[df_lowcomet[\"adult_content_flag\"]==0]"
   ]
  },
  {
   "cell_type": "code",
   "execution_count": 98,
   "metadata": {},
   "outputs": [
    {
     "name": "stderr",
     "output_type": "stream",
     "text": [
      "100%|██████████| 8761/8761 [00:00<00:00, 10758.08it/s]\n",
      "100%|██████████| 8761/8761 [00:00<00:00, 331711.15it/s]\n"
     ]
    }
   ],
   "source": [
    "idxs_to_drop = []\n",
    "for idx in tqdm(df_lowcomet.index):\n",
    "   src_sentence = df_lowcomet.loc[idx].src\n",
    "   if src_sentence[0].islower():\n",
    "      idxs_to_drop.append(idx)\n",
    "\n",
    "lowercase_first_token_flag = np.zeros(len(df_lowcomet))\n",
    "j = 0\n",
    "for i in tqdm(df_lowcomet.index):\n",
    "   if i in idxs_to_drop:\n",
    "      lowercase_first_token_flag[j] = int(1)\n",
    "   j += 1\n",
    "lowercase_first_token_flags = [int(val) for val in lowercase_first_token_flag]\n",
    "\n",
    "df_lowcomet[\"lowercase_first_token_flag\"] = lowercase_first_token_flags\n",
    "df_lowcomet = df_lowcomet.loc[df_lowcomet[\"lowercase_first_token_flag\"]==0]"
   ]
  },
  {
   "cell_type": "code",
   "execution_count": 99,
   "metadata": {},
   "outputs": [],
   "source": [
    "df_lowcomet = df_lowcomet.sort_values(by=\"comet-qe\")[:5000]"
   ]
  },
  {
   "cell_type": "markdown",
   "metadata": {},
   "source": [
    "## Define samples for annotation"
   ]
  },
  {
   "cell_type": "code",
   "execution_count": 100,
   "metadata": {},
   "outputs": [],
   "source": [
    "df_samples_for_annotation = df_lowcomet.sample(450, random_state=1).sort_values(by=\"idx\")"
   ]
  },
  {
   "cell_type": "markdown",
   "metadata": {},
   "source": [
    "## Good Translations"
   ]
  },
  {
   "cell_type": "code",
   "execution_count": 101,
   "metadata": {},
   "outputs": [],
   "source": [
    "df_all = pd.read_pickle(\"/home/nunomg/mt-hallucinations/HALO/fairseq/data-bin/wmt18_de-en_heldout/checkpoint_best/dataframes/heldoutwstats_w_bicleaner.pkl\")"
   ]
  },
  {
   "cell_type": "code",
   "execution_count": 102,
   "metadata": {},
   "outputs": [],
   "source": [
    "df_all_topcomet_qe = df_all.sort_values(by=\"comet-qe\", ascending=False)[:500]\n",
    "df_goodtranslations_for_annotation = df_all_topcomet_qe.sample(20, random_state=1).sort_values(by=\"idx\")"
   ]
  },
  {
   "cell_type": "markdown",
   "metadata": {},
   "source": [
    "## Honey Hallucinations"
   ]
  },
  {
   "cell_type": "code",
   "execution_count": 103,
   "metadata": {},
   "outputs": [],
   "source": [
    "df_lowcomet_nonsampled = df_lowcomet.drop(labels=df_samples_for_annotation.index)"
   ]
  },
  {
   "cell_type": "code",
   "execution_count": 104,
   "metadata": {},
   "outputs": [],
   "source": [
    "idxs_honey = [1170887, 455127, 956979, 672999, 1743002, 655196, 147363, 766274, 1353331, 1502803, 608532, 1450030, 220206, 1027125, 575742, 522781, 786981, 1148666, 1783556,\\\n",
    "717862, 1728538, 982673, 1661325, 945866, 1474903, 118944, 31402, 753861, 1440578, 1155396]"
   ]
  },
  {
   "cell_type": "code",
   "execution_count": 105,
   "metadata": {},
   "outputs": [],
   "source": [
    "df_idxs = []\n",
    "for idx in idxs_honey:\n",
    "    sample = df_lowcomet_nonsampled.loc[df_lowcomet_nonsampled[\"idx\"]==idx]\n",
    "    df_idxs.append(sample.index.values[0])\n",
    "\n",
    "honey_halls = df_lowcomet_nonsampled.loc[df_idxs]"
   ]
  },
  {
   "cell_type": "markdown",
   "metadata": {},
   "source": [
    "## Join everything"
   ]
  },
  {
   "cell_type": "code",
   "execution_count": 106,
   "metadata": {},
   "outputs": [],
   "source": [
    "df_samples_for_annotation[\"type\"] = [\"TO ANNOTATE\"] * len(df_samples_for_annotation)\n",
    "df_goodtranslations_for_annotation[\"type\"] = [\"GOOD\"] * len(df_goodtranslations_for_annotation)\n",
    "honey_halls[\"type\"] = [\"CONTROL HALL\"] * len(honey_halls)"
   ]
  },
  {
   "cell_type": "code",
   "execution_count": 109,
   "metadata": {},
   "outputs": [],
   "source": [
    "final_df = pd.concat([df_samples_for_annotation,df_goodtranslations_for_annotation, honey_halls]).sample(frac=1, random_state=1)\n",
    "final_df_for_csv = pd.concat([df_samples_for_annotation[[\"idx\", \"src\", \"mt\"]],df_goodtranslations_for_annotation[[\"idx\", \"src\", \"mt\"]], honey_halls[[\"idx\", \"src\", \"mt\"]]]).sample(frac=1, random_state=1)"
   ]
  },
  {
   "cell_type": "code",
   "execution_count": 35,
   "metadata": {},
   "outputs": [],
   "source": [
    "pd.concat([df_samples_for_annotation,df_goodtranslations_for_annotation, honey_halls]).sample(frac=1, random_state=1).to_csv(\"annotation_phase_1_de-en.csv\")"
   ]
  },
  {
   "cell_type": "code",
   "execution_count": 115,
   "metadata": {},
   "outputs": [],
   "source": [
    "final_df.to_pickle(\"df_annotation_phase_1_de-en.pkl\")"
   ]
  },
  {
   "cell_type": "code",
   "execution_count": 2,
   "metadata": {},
   "outputs": [
    {
     "data": {
      "text/html": [
       "<div>\n",
       "<style scoped>\n",
       "    .dataframe tbody tr th:only-of-type {\n",
       "        vertical-align: middle;\n",
       "    }\n",
       "\n",
       "    .dataframe tbody tr th {\n",
       "        vertical-align: top;\n",
       "    }\n",
       "\n",
       "    .dataframe thead th {\n",
       "        text-align: right;\n",
       "    }\n",
       "</style>\n",
       "<table border=\"1\" class=\"dataframe\">\n",
       "  <thead>\n",
       "    <tr style=\"text-align: right;\">\n",
       "      <th></th>\n",
       "      <th>idx</th>\n",
       "      <th>src</th>\n",
       "      <th>mt</th>\n",
       "      <th>ref</th>\n",
       "      <th>src_ids</th>\n",
       "      <th>mt_ids</th>\n",
       "      <th>ref_ids</th>\n",
       "      <th>score</th>\n",
       "      <th>comet-qe</th>\n",
       "      <th>f1_bpe</th>\n",
       "      <th>...</th>\n",
       "      <th>f2_word</th>\n",
       "      <th>repscore_word</th>\n",
       "      <th>chrf2</th>\n",
       "      <th>unk_flag</th>\n",
       "      <th>bicleaner_score</th>\n",
       "      <th>mult_sentence_flag</th>\n",
       "      <th>special_char_flag</th>\n",
       "      <th>adult_content_flag</th>\n",
       "      <th>lowercase_first_token_flag</th>\n",
       "      <th>type</th>\n",
       "    </tr>\n",
       "  </thead>\n",
       "  <tbody>\n",
       "    <tr>\n",
       "      <th>361086</th>\n",
       "      <td>1366719</td>\n",
       "      <td>Eine Coursage bringt den Ganzanzug erst richti...</td>\n",
       "      <td>A Coursage takes the whole course in the right...</td>\n",
       "      <td>A corset gives the suit the right shape.</td>\n",
       "      <td>[687, 11441, 23, 688, 3601, 20, 10058, 1692, 8...</td>\n",
       "      <td>[131, 11441, 23, 688, 2047, 6, 1156, 682, 7, 6...</td>\n",
       "      <td>[131, 390, 736, 359, 2953, 6, 11073, 6, 431, 7...</td>\n",
       "      <td>-0.84412</td>\n",
       "      <td>-0.904549</td>\n",
       "      <td>0</td>\n",
       "      <td>...</td>\n",
       "      <td>0</td>\n",
       "      <td>9</td>\n",
       "      <td>51.033658</td>\n",
       "      <td>0</td>\n",
       "      <td>0.585</td>\n",
       "      <td>0.0</td>\n",
       "      <td>0.0</td>\n",
       "      <td>0.0</td>\n",
       "      <td>0.0</td>\n",
       "      <td>TO ANNOTATE</td>\n",
       "    </tr>\n",
       "    <tr>\n",
       "      <th>597777</th>\n",
       "      <td>1487862</td>\n",
       "      <td>Nicht wringen oder bügeln, nicht zusammengerol...</td>\n",
       "      <td>Don't rush or wear, not rolled together or let...</td>\n",
       "      <td>Never wring out nor iron. Never leave rolled u...</td>\n",
       "      <td>[2136, 541, 10195, 83, 28621, 5273, 4, 49, 728...</td>\n",
       "      <td>[5180, 38, 133, 605, 3782, 75, 18220, 4, 58, 1...</td>\n",
       "      <td>[26086, 541, 4081, 202, 2897, 9632, 5, 26086, ...</td>\n",
       "      <td>-0.79799</td>\n",
       "      <td>-0.550274</td>\n",
       "      <td>0</td>\n",
       "      <td>...</td>\n",
       "      <td>0</td>\n",
       "      <td>11</td>\n",
       "      <td>29.153174</td>\n",
       "      <td>0</td>\n",
       "      <td>0.537</td>\n",
       "      <td>0.0</td>\n",
       "      <td>0.0</td>\n",
       "      <td>0.0</td>\n",
       "      <td>0.0</td>\n",
       "      <td>TO ANNOTATE</td>\n",
       "    </tr>\n",
       "    <tr>\n",
       "      <th>257051</th>\n",
       "      <td>219906</td>\n",
       "      <td>Diese Schlucht zieht dich sofort in deinen Bann.</td>\n",
       "      <td>This ravine will take you straight into your b...</td>\n",
       "      <td>This canyon will enthrall you from the very fi...</td>\n",
       "      <td>[360, 4350, 2447, 11619, 9880, 3375, 7, 20176,...</td>\n",
       "      <td>[119, 1830, 389, 557, 52, 307, 69, 8883, 219, ...</td>\n",
       "      <td>[119, 86, 144, 225, 52, 1164, 1288, 1027, 69, ...</td>\n",
       "      <td>-0.71318</td>\n",
       "      <td>-0.717811</td>\n",
       "      <td>0</td>\n",
       "      <td>...</td>\n",
       "      <td>0</td>\n",
       "      <td>10</td>\n",
       "      <td>20.360183</td>\n",
       "      <td>0</td>\n",
       "      <td>0.500</td>\n",
       "      <td>0.0</td>\n",
       "      <td>0.0</td>\n",
       "      <td>0.0</td>\n",
       "      <td>0.0</td>\n",
       "      <td>TO ANNOTATE</td>\n",
       "    </tr>\n",
       "    <tr>\n",
       "      <th>583859</th>\n",
       "      <td>300172</td>\n",
       "      <td>Doch Achtung: Seeleoparden sind Fleischfresser...</td>\n",
       "      <td>But beware: souls are meat buffers and robberies.</td>\n",
       "      <td>But divers beware: leopard seals are meat eate...</td>\n",
       "      <td>[1874, 5465, 35, 15832, 770, 229, 263, 67, 898...</td>\n",
       "      <td>[664, 33, 3489, 35, 94, 6402, 37, 7942, 296, 6...</td>\n",
       "      <td>[664, 7734, 33, 3489, 35, 838, 27645, 1066, 10...</td>\n",
       "      <td>-0.82310</td>\n",
       "      <td>-0.783460</td>\n",
       "      <td>0</td>\n",
       "      <td>...</td>\n",
       "      <td>0</td>\n",
       "      <td>6</td>\n",
       "      <td>36.218615</td>\n",
       "      <td>0</td>\n",
       "      <td>0.517</td>\n",
       "      <td>0.0</td>\n",
       "      <td>0.0</td>\n",
       "      <td>0.0</td>\n",
       "      <td>0.0</td>\n",
       "      <td>TO ANNOTATE</td>\n",
       "    </tr>\n",
       "    <tr>\n",
       "      <th>282744</th>\n",
       "      <td>1502803</td>\n",
       "      <td>Bei Beugungen kommt es zum Sprödbruch.</td>\n",
       "      <td>There is a explosion when it comes to denials.</td>\n",
       "      <td>It breaks with crisp fracture when bent.</td>\n",
       "      <td>[843, 516, 805, 276, 1273, 60, 126, 9387, 1175...</td>\n",
       "      <td>[492, 16, 15, 13595, 520, 267, 54, 2028, 12, 2...</td>\n",
       "      <td>[130, 22755, 36, 6305, 6145, 6545, 1873, 630, ...</td>\n",
       "      <td>-0.94981</td>\n",
       "      <td>-0.669801</td>\n",
       "      <td>0</td>\n",
       "      <td>...</td>\n",
       "      <td>0</td>\n",
       "      <td>5</td>\n",
       "      <td>16.500485</td>\n",
       "      <td>0</td>\n",
       "      <td>0.575</td>\n",
       "      <td>0.0</td>\n",
       "      <td>0.0</td>\n",
       "      <td>0.0</td>\n",
       "      <td>0.0</td>\n",
       "      <td>CONTROL HALL</td>\n",
       "    </tr>\n",
       "    <tr>\n",
       "      <th>...</th>\n",
       "      <td>...</td>\n",
       "      <td>...</td>\n",
       "      <td>...</td>\n",
       "      <td>...</td>\n",
       "      <td>...</td>\n",
       "      <td>...</td>\n",
       "      <td>...</td>\n",
       "      <td>...</td>\n",
       "      <td>...</td>\n",
       "      <td>...</td>\n",
       "      <td>...</td>\n",
       "      <td>...</td>\n",
       "      <td>...</td>\n",
       "      <td>...</td>\n",
       "      <td>...</td>\n",
       "      <td>...</td>\n",
       "      <td>...</td>\n",
       "      <td>...</td>\n",
       "      <td>...</td>\n",
       "      <td>...</td>\n",
       "      <td>...</td>\n",
       "    </tr>\n",
       "    <tr>\n",
       "      <th>723129</th>\n",
       "      <td>1123933</td>\n",
       "      <td>Die Qualit t Produkt Ihnen erm glicht es uns w...</td>\n",
       "      <td>The quality of the product gives us the opport...</td>\n",
       "      <td>The quality product you provide allows us to f...</td>\n",
       "      <td>[44, 11159, 306, 423, 2024, 417, 8975, 600, 86...</td>\n",
       "      <td>[26, 724, 8, 6, 1417, 2953, 254, 6, 1324, 12, ...</td>\n",
       "      <td>[26, 724, 1417, 69, 642, 2336, 254, 12, 1997, ...</td>\n",
       "      <td>-0.70877</td>\n",
       "      <td>-0.533898</td>\n",
       "      <td>0</td>\n",
       "      <td>...</td>\n",
       "      <td>0</td>\n",
       "      <td>18</td>\n",
       "      <td>41.229053</td>\n",
       "      <td>0</td>\n",
       "      <td>0.525</td>\n",
       "      <td>0.0</td>\n",
       "      <td>0.0</td>\n",
       "      <td>0.0</td>\n",
       "      <td>0.0</td>\n",
       "      <td>TO ANNOTATE</td>\n",
       "    </tr>\n",
       "    <tr>\n",
       "      <th>306448</th>\n",
       "      <td>314033</td>\n",
       "      <td>Fischerei - Maßnahmen zur Wiederauffüllung der...</td>\n",
       "      <td>Fisheries - cod recovery measures 9</td>\n",
       "      <td>Fisheries - Recovery measures for cod 9</td>\n",
       "      <td>[3821, 31, 370, 81, 14426, 20500, 10, 8255, 33...</td>\n",
       "      <td>[8636, 31, 13994, 4434, 467, 803, 2]</td>\n",
       "      <td>[8636, 31, 25506, 467, 18, 13994, 803, 2]</td>\n",
       "      <td>-0.23178</td>\n",
       "      <td>-0.515588</td>\n",
       "      <td>0</td>\n",
       "      <td>...</td>\n",
       "      <td>0</td>\n",
       "      <td>1</td>\n",
       "      <td>73.476191</td>\n",
       "      <td>0</td>\n",
       "      <td>0.605</td>\n",
       "      <td>0.0</td>\n",
       "      <td>0.0</td>\n",
       "      <td>0.0</td>\n",
       "      <td>0.0</td>\n",
       "      <td>TO ANNOTATE</td>\n",
       "    </tr>\n",
       "    <tr>\n",
       "      <th>1835257</th>\n",
       "      <td>1714382</td>\n",
       "      <td>Dublin Flughafen-Berechtigung , Hauptmitte der...</td>\n",
       "      <td>Dublin Airport Authorisation , the main centre...</td>\n",
       "      <td>Dublin Airport Authority, main center of the c...</td>\n",
       "      <td>[6635, 3202, 14, 210, 13197, 917, 142, 1496, 2...</td>\n",
       "      <td>[6635, 3746, 17991, 1507, 142, 6, 734, 998, 8,...</td>\n",
       "      <td>[6635, 3746, 8045, 4, 734, 2908, 8, 6, 785, 14...</td>\n",
       "      <td>-0.37625</td>\n",
       "      <td>-0.908761</td>\n",
       "      <td>0</td>\n",
       "      <td>...</td>\n",
       "      <td>0</td>\n",
       "      <td>14</td>\n",
       "      <td>73.378879</td>\n",
       "      <td>0</td>\n",
       "      <td>0.685</td>\n",
       "      <td>0.0</td>\n",
       "      <td>0.0</td>\n",
       "      <td>0.0</td>\n",
       "      <td>0.0</td>\n",
       "      <td>TO ANNOTATE</td>\n",
       "    </tr>\n",
       "    <tr>\n",
       "      <th>176517</th>\n",
       "      <td>1020427</td>\n",
       "      <td>Andernfalls wird es nicht mit WINS ...</td>\n",
       "      <td>Otherwise it will not use WINS ...</td>\n",
       "      <td>Otherwise, it will not be using WINS ...</td>\n",
       "      <td>[24993, 64, 60, 49, 32, 278, 2438, 200, 497, 2]</td>\n",
       "      <td>[15238, 54, 52, 58, 256, 278, 2438, 200, 497, 2]</td>\n",
       "      <td>[15238, 4, 54, 52, 58, 33, 977, 278, 2438, 200...</td>\n",
       "      <td>-0.27093</td>\n",
       "      <td>-0.722248</td>\n",
       "      <td>0</td>\n",
       "      <td>...</td>\n",
       "      <td>0</td>\n",
       "      <td>2</td>\n",
       "      <td>60.611791</td>\n",
       "      <td>0</td>\n",
       "      <td>0.647</td>\n",
       "      <td>0.0</td>\n",
       "      <td>0.0</td>\n",
       "      <td>0.0</td>\n",
       "      <td>0.0</td>\n",
       "      <td>TO ANNOTATE</td>\n",
       "    </tr>\n",
       "    <tr>\n",
       "      <th>424727</th>\n",
       "      <td>180255</td>\n",
       "      <td>KAUF - VILLEN Ein Auswahl aus Immobilienbestan...</td>\n",
       "      <td>CAUF - VILL A selection of real estate.........</td>\n",
       "      <td>SALES - VILLAS Our selections for you..........</td>\n",
       "      <td>[186, 285, 825, 344, 31, 314, 24701, 859, 291,...</td>\n",
       "      <td>[25208, 825, 344, 31, 314, 24701, 131, 4214, 8...</td>\n",
       "      <td>[145, 2154, 1225, 31, 314, 24701, 2014, 1035, ...</td>\n",
       "      <td>-0.53823</td>\n",
       "      <td>-0.610469</td>\n",
       "      <td>0</td>\n",
       "      <td>...</td>\n",
       "      <td>0</td>\n",
       "      <td>0</td>\n",
       "      <td>50.600301</td>\n",
       "      <td>0</td>\n",
       "      <td>0.557</td>\n",
       "      <td>0.0</td>\n",
       "      <td>0.0</td>\n",
       "      <td>0.0</td>\n",
       "      <td>0.0</td>\n",
       "      <td>TO ANNOTATE</td>\n",
       "    </tr>\n",
       "  </tbody>\n",
       "</table>\n",
       "<p>500 rows × 23 columns</p>\n",
       "</div>"
      ],
      "text/plain": [
       "             idx                                                src  \\\n",
       "361086   1366719  Eine Coursage bringt den Ganzanzug erst richti...   \n",
       "597777   1487862  Nicht wringen oder bügeln, nicht zusammengerol...   \n",
       "257051    219906   Diese Schlucht zieht dich sofort in deinen Bann.   \n",
       "583859    300172  Doch Achtung: Seeleoparden sind Fleischfresser...   \n",
       "282744   1502803             Bei Beugungen kommt es zum Sprödbruch.   \n",
       "...          ...                                                ...   \n",
       "723129   1123933  Die Qualit t Produkt Ihnen erm glicht es uns w...   \n",
       "306448    314033  Fischerei - Maßnahmen zur Wiederauffüllung der...   \n",
       "1835257  1714382  Dublin Flughafen-Berechtigung , Hauptmitte der...   \n",
       "176517   1020427             Andernfalls wird es nicht mit WINS ...   \n",
       "424727    180255  KAUF - VILLEN Ein Auswahl aus Immobilienbestan...   \n",
       "\n",
       "                                                        mt  \\\n",
       "361086   A Coursage takes the whole course in the right...   \n",
       "597777   Don't rush or wear, not rolled together or let...   \n",
       "257051   This ravine will take you straight into your b...   \n",
       "583859   But beware: souls are meat buffers and robberies.   \n",
       "282744      There is a explosion when it comes to denials.   \n",
       "...                                                    ...   \n",
       "723129   The quality of the product gives us the opport...   \n",
       "306448                 Fisheries - cod recovery measures 9   \n",
       "1835257  Dublin Airport Authorisation , the main centre...   \n",
       "176517                  Otherwise it will not use WINS ...   \n",
       "424727     CAUF - VILL A selection of real estate.........   \n",
       "\n",
       "                                                       ref  \\\n",
       "361086            A corset gives the suit the right shape.   \n",
       "597777   Never wring out nor iron. Never leave rolled u...   \n",
       "257051   This canyon will enthrall you from the very fi...   \n",
       "583859   But divers beware: leopard seals are meat eate...   \n",
       "282744            It breaks with crisp fracture when bent.   \n",
       "...                                                    ...   \n",
       "723129   The quality product you provide allows us to f...   \n",
       "306448             Fisheries - Recovery measures for cod 9   \n",
       "1835257  Dublin Airport Authority, main center of the c...   \n",
       "176517            Otherwise, it will not be using WINS ...   \n",
       "424727     SALES - VILLAS Our selections for you..........   \n",
       "\n",
       "                                                   src_ids  \\\n",
       "361086   [687, 11441, 23, 688, 3601, 20, 10058, 1692, 8...   \n",
       "597777   [2136, 541, 10195, 83, 28621, 5273, 4, 49, 728...   \n",
       "257051   [360, 4350, 2447, 11619, 9880, 3375, 7, 20176,...   \n",
       "583859   [1874, 5465, 35, 15832, 770, 229, 263, 67, 898...   \n",
       "282744   [843, 516, 805, 276, 1273, 60, 126, 9387, 1175...   \n",
       "...                                                    ...   \n",
       "723129   [44, 11159, 306, 423, 2024, 417, 8975, 600, 86...   \n",
       "306448   [3821, 31, 370, 81, 14426, 20500, 10, 8255, 33...   \n",
       "1835257  [6635, 3202, 14, 210, 13197, 917, 142, 1496, 2...   \n",
       "176517     [24993, 64, 60, 49, 32, 278, 2438, 200, 497, 2]   \n",
       "424727   [186, 285, 825, 344, 31, 314, 24701, 859, 291,...   \n",
       "\n",
       "                                                    mt_ids  \\\n",
       "361086   [131, 11441, 23, 688, 2047, 6, 1156, 682, 7, 6...   \n",
       "597777   [5180, 38, 133, 605, 3782, 75, 18220, 4, 58, 1...   \n",
       "257051   [119, 1830, 389, 557, 52, 307, 69, 8883, 219, ...   \n",
       "583859   [664, 33, 3489, 35, 94, 6402, 37, 7942, 296, 6...   \n",
       "282744   [492, 16, 15, 13595, 520, 267, 54, 2028, 12, 2...   \n",
       "...                                                    ...   \n",
       "723129   [26, 724, 8, 6, 1417, 2953, 254, 6, 1324, 12, ...   \n",
       "306448                [8636, 31, 13994, 4434, 467, 803, 2]   \n",
       "1835257  [6635, 3746, 17991, 1507, 142, 6, 734, 998, 8,...   \n",
       "176517    [15238, 54, 52, 58, 256, 278, 2438, 200, 497, 2]   \n",
       "424727   [25208, 825, 344, 31, 314, 24701, 131, 4214, 8...   \n",
       "\n",
       "                                                   ref_ids    score  comet-qe  \\\n",
       "361086   [131, 390, 736, 359, 2953, 6, 11073, 6, 431, 7... -0.84412 -0.904549   \n",
       "597777   [26086, 541, 4081, 202, 2897, 9632, 5, 26086, ... -0.79799 -0.550274   \n",
       "257051   [119, 86, 144, 225, 52, 1164, 1288, 1027, 69, ... -0.71318 -0.717811   \n",
       "583859   [664, 7734, 33, 3489, 35, 838, 27645, 1066, 10... -0.82310 -0.783460   \n",
       "282744   [130, 22755, 36, 6305, 6145, 6545, 1873, 630, ... -0.94981 -0.669801   \n",
       "...                                                    ...      ...       ...   \n",
       "723129   [26, 724, 1417, 69, 642, 2336, 254, 12, 1997, ... -0.70877 -0.533898   \n",
       "306448           [8636, 31, 25506, 467, 18, 13994, 803, 2] -0.23178 -0.515588   \n",
       "1835257  [6635, 3746, 8045, 4, 734, 2908, 8, 6, 785, 14... -0.37625 -0.908761   \n",
       "176517   [15238, 4, 54, 52, 58, 33, 977, 278, 2438, 200... -0.27093 -0.722248   \n",
       "424727   [145, 2154, 1225, 31, 314, 24701, 2014, 1035, ... -0.53823 -0.610469   \n",
       "\n",
       "         f1_bpe  ...  f2_word  repscore_word      chrf2  unk_flag  \\\n",
       "361086        0  ...        0              9  51.033658         0   \n",
       "597777        0  ...        0             11  29.153174         0   \n",
       "257051        0  ...        0             10  20.360183         0   \n",
       "583859        0  ...        0              6  36.218615         0   \n",
       "282744        0  ...        0              5  16.500485         0   \n",
       "...         ...  ...      ...            ...        ...       ...   \n",
       "723129        0  ...        0             18  41.229053         0   \n",
       "306448        0  ...        0              1  73.476191         0   \n",
       "1835257       0  ...        0             14  73.378879         0   \n",
       "176517        0  ...        0              2  60.611791         0   \n",
       "424727        0  ...        0              0  50.600301         0   \n",
       "\n",
       "         bicleaner_score  mult_sentence_flag  special_char_flag  \\\n",
       "361086             0.585                 0.0                0.0   \n",
       "597777             0.537                 0.0                0.0   \n",
       "257051             0.500                 0.0                0.0   \n",
       "583859             0.517                 0.0                0.0   \n",
       "282744             0.575                 0.0                0.0   \n",
       "...                  ...                 ...                ...   \n",
       "723129             0.525                 0.0                0.0   \n",
       "306448             0.605                 0.0                0.0   \n",
       "1835257            0.685                 0.0                0.0   \n",
       "176517             0.647                 0.0                0.0   \n",
       "424727             0.557                 0.0                0.0   \n",
       "\n",
       "         adult_content_flag  lowercase_first_token_flag          type  \n",
       "361086                  0.0                         0.0   TO ANNOTATE  \n",
       "597777                  0.0                         0.0   TO ANNOTATE  \n",
       "257051                  0.0                         0.0   TO ANNOTATE  \n",
       "583859                  0.0                         0.0   TO ANNOTATE  \n",
       "282744                  0.0                         0.0  CONTROL HALL  \n",
       "...                     ...                         ...           ...  \n",
       "723129                  0.0                         0.0   TO ANNOTATE  \n",
       "306448                  0.0                         0.0   TO ANNOTATE  \n",
       "1835257                 0.0                         0.0   TO ANNOTATE  \n",
       "176517                  0.0                         0.0   TO ANNOTATE  \n",
       "424727                  0.0                         0.0   TO ANNOTATE  \n",
       "\n",
       "[500 rows x 23 columns]"
      ]
     },
     "execution_count": 2,
     "metadata": {},
     "output_type": "execute_result"
    }
   ],
   "source": [
    "pd.read_pickle(\"df_annotation_phase_1_de-en.pkl\")"
   ]
  },
  {
   "cell_type": "code",
   "execution_count": null,
   "metadata": {},
   "outputs": [],
   "source": []
  }
 ],
 "metadata": {
  "interpreter": {
   "hash": "98a7630fb2e4dff2ac16a146cd9f37c0520495fbe7eec2b40bcb62515674def6"
  },
  "kernelspec": {
   "display_name": "Python 3.8.10 ('hall-env')",
   "language": "python",
   "name": "python3"
  },
  "language_info": {
   "codemirror_mode": {
    "name": "ipython",
    "version": 3
   },
   "file_extension": ".py",
   "mimetype": "text/x-python",
   "name": "python",
   "nbconvert_exporter": "python",
   "pygments_lexer": "ipython3",
   "version": "3.8.10"
  },
  "orig_nbformat": 4
 },
 "nbformat": 4,
 "nbformat_minor": 2
}
