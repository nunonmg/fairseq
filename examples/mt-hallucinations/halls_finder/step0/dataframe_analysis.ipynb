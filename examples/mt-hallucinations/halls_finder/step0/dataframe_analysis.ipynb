{
 "cells": [
  {
   "cell_type": "code",
   "execution_count": 1,
   "metadata": {},
   "outputs": [],
   "source": [
    "import pandas as pd\n",
    "from tqdm import tqdm\n",
    "import numpy as np\n",
    "import pickle"
   ]
  },
  {
   "cell_type": "markdown",
   "metadata": {},
   "source": [
    "## Analysis for DE-EN"
   ]
  },
  {
   "cell_type": "code",
   "execution_count": 10,
   "metadata": {},
   "outputs": [],
   "source": [
    "df_all = pd.read_pickle(\"/home/nunomg/mt-hallucinations/HALO/fairseq/data-bin/wmt18_de-en_heldout/checkpoint_best/dataframes/heldoutwstats_w_bicleaner.pkl\")\n",
    "df = pd.read_pickle(\"/home/nunomg/mt-hallucinations/HALO/fairseq/data-bin/wmt18_de-en_heldout/checkpoint_best/dataframes/heldout_lowcomet_w_bicleaner.pkl\")"
   ]
  },
  {
   "cell_type": "code",
   "execution_count": 11,
   "metadata": {},
   "outputs": [],
   "source": [
    "with open(\"/home/nunomg/mt-hallucinations/HALO/fairseq/data-bin/wmt18_de-en_heldout/checkpoint_best/mc-dropout-scores-lowcomet_w_bicleaner/agg_scores.levdist_w_bicleaner.pkl\", \"rb\") as f:\n",
    "    levdist_lowcomet = pickle.load(f)\n",
    "with open(\"/home/nunomg/mt-hallucinations/HALO/fairseq/data-bin/wmt18_de-en_heldout/checkpoint_best/mc-dropout-scores-lowcomet_w_bicleaner/agg_ensembleprobs_scores_w_bicleaner.pkl\", \"rb\") as f:\n",
    "    logprobs_lowcomet = pickle.load(f)"
   ]
  },
  {
   "cell_type": "code",
   "execution_count": 12,
   "metadata": {},
   "outputs": [],
   "source": [
    "df[\"var_probs\"] = list(np.array(logprobs_lowcomet[0]) ** 2)\n",
    "df[\"avg_div_levdist\"] = list(np.array(levdist_lowcomet[0]))"
   ]
  },
  {
   "cell_type": "markdown",
   "metadata": {},
   "source": [
    "### Add Bicleaner scores"
   ]
  },
  {
   "cell_type": "code",
   "execution_count": 11,
   "metadata": {},
   "outputs": [
    {
     "data": {
      "text/plain": [
       "14108"
      ]
     },
     "execution_count": 11,
     "metadata": {},
     "output_type": "execute_result"
    }
   ],
   "source": [
    "bicleaner_scores = []\n",
    "for idx in df[\"idx\"].values:\n",
    "    bicleaner_scores.append(float(df_all.loc[df_all[\"idx\"]==idx].bicleaner_score.values[0]))\n",
    "len(bicleaner_scores)"
   ]
  },
  {
   "cell_type": "code",
   "execution_count": 4,
   "metadata": {},
   "outputs": [],
   "source": [
    "df[\"bicleaner_score\"] = bicleaner_scores"
   ]
  },
  {
   "cell_type": "markdown",
   "metadata": {},
   "source": [
    "### Define Thresholds"
   ]
  },
  {
   "cell_type": "code",
   "execution_count": 13,
   "metadata": {},
   "outputs": [],
   "source": [
    "epsilon = 1\n",
    "score_threshold = df_all.sort_values(by=\"score\")[:round(epsilon/100 * len(df_all))][\"score\"].values[-1]\n",
    "df_score_filter = df.loc[df[\"score\"] <= score_threshold]\n",
    "\n",
    "sim_div_threshold = df.sort_values(by=\"avg_div_levdist\", ascending=False)[:len(df_score_filter)][\"avg_div_levdist\"].values[-1]\n",
    "df_divergence_filter = df.sort_values(by=\"avg_div_levdist\")[:len(df_score_filter)]\n",
    "\n",
    "var_probs_threshold = df.sort_values(by=\"var_probs\", ascending=False)[:len(df_score_filter)][\"var_probs\"].values[-1]\n",
    "df_var_probs = df.sort_values(by=\"var_probs\")[:len(df_score_filter)]"
   ]
  },
  {
   "cell_type": "code",
   "execution_count": 14,
   "metadata": {},
   "outputs": [
    {
     "data": {
      "text/plain": [
       "2761"
      ]
     },
     "execution_count": 14,
     "metadata": {},
     "output_type": "execute_result"
    }
   ],
   "source": [
    "df_lss_lsd = df.loc[(df[\"score\"]<= score_threshold) | (df[\"avg_div_levdist\"] >= sim_div_threshold)]\n",
    "len(df_lss_lsd)"
   ]
  },
  {
   "cell_type": "code",
   "execution_count": 15,
   "metadata": {},
   "outputs": [
    {
     "data": {
      "text/plain": [
       "3359"
      ]
     },
     "execution_count": 15,
     "metadata": {},
     "output_type": "execute_result"
    }
   ],
   "source": [
    "df_lss_lvp = df.loc[(df[\"score\"]<= score_threshold) | (df[\"var_probs\"] >= var_probs_threshold)]\n",
    "len(df_lss_lvp)"
   ]
  },
  {
   "cell_type": "code",
   "execution_count": 16,
   "metadata": {},
   "outputs": [
    {
     "data": {
      "text/plain": [
       "3344"
      ]
     },
     "execution_count": 16,
     "metadata": {},
     "output_type": "execute_result"
    }
   ],
   "source": [
    "df_lsd_lvp = df.loc[(df[\"avg_div_levdist\"] >= sim_div_threshold) | (df[\"var_probs\"] >= var_probs_threshold)]\n",
    "len(df_lsd_lvp)"
   ]
  },
  {
   "cell_type": "markdown",
   "metadata": {},
   "source": [
    "### Other criteria"
   ]
  },
  {
   "cell_type": "code",
   "execution_count": 17,
   "metadata": {},
   "outputs": [
    {
     "data": {
      "text/plain": [
       "35"
      ]
     },
     "execution_count": 17,
     "metadata": {},
     "output_type": "execute_result"
    }
   ],
   "source": [
    "len(df.loc[(df[\"f1_bpe\"]==1) & (df[\"score\"] > score_threshold) & (df[\"avg_div_levdist\"] < sim_div_threshold)])"
   ]
  },
  {
   "cell_type": "code",
   "execution_count": 54,
   "metadata": {},
   "outputs": [
    {
     "data": {
      "text/plain": [
       "39"
      ]
     },
     "execution_count": 54,
     "metadata": {},
     "output_type": "execute_result"
    }
   ],
   "source": [
    "len(df.loc[(df[\"f1_bpe\"]==1) & (df[\"score\"] > score_threshold) & (df[\"var_probs\"] < var_probs_threshold)])"
   ]
  },
  {
   "cell_type": "code",
   "execution_count": 55,
   "metadata": {},
   "outputs": [
    {
     "data": {
      "text/plain": [
       "4"
      ]
     },
     "execution_count": 55,
     "metadata": {},
     "output_type": "execute_result"
    }
   ],
   "source": [
    "len(df.loc[(df[\"f1_bpe\"]==1) & (df[\"avg_div_levdist\"] < sim_div_threshold) & (df[\"var_probs\"] < var_probs_threshold)])"
   ]
  },
  {
   "cell_type": "code",
   "execution_count": 66,
   "metadata": {},
   "outputs": [
    {
     "data": {
      "text/plain": [
       "{'idx': 1123516,\n",
       " 'src': 'Sie stehen in verschiedenen Farben zur Verfügung, womit die beste Annäherung an Ihre eigenen Autoteppiche geschaffen wird und sie in Einklang mit dem Autointerieur stehen.',\n",
       " 'mt': 'They are available in different colours, creating the best rapprochement with your own car car car car car car car car car and in harmony with the car engineer.',\n",
       " 'ref': 'They are available in different colours, which enable the best possible approximation to your basic mat or congruity with the interior of your car.',\n",
       " 'score': -0.59659,\n",
       " 'var_probs': 0.54228496}"
      ]
     },
     "execution_count": 66,
     "metadata": {},
     "output_type": "execute_result"
    }
   ],
   "source": [
    "mt = df.loc[(df[\"f1_bpe\"]==1) & (df[\"score\"] > score_threshold) & (df[\"avg_div_levdist\"] < sim_div_threshold)][[\"idx\", \"src\", \"mt\", \"ref\", \"score\", \"var_probs\"]].to_dict(\"records\")[1][\"mt\"]\n",
    "df.loc[(df[\"f1_bpe\"]==1) & (df[\"score\"] > score_threshold) & (df[\"avg_div_levdist\"] < sim_div_threshold)][[\"idx\", \"src\", \"mt\", \"ref\", \"score\", \"var_probs\"]].to_dict(\"records\")[1]"
   ]
  },
  {
   "cell_type": "code",
   "execution_count": 46,
   "metadata": {},
   "outputs": [],
   "source": [
    "t = df.idx == 230466\n",
    "t = list(t.values)\n",
    "idx = [i for i, x in enumerate(t) if x]"
   ]
  },
  {
   "cell_type": "code",
   "execution_count": 43,
   "metadata": {},
   "outputs": [],
   "source": [
    "import pickle\n",
    "with open(\"/home/nunomg/mt-hallucinations/HALO/fairseq/data-bin/wmt18_de-en_heldout/checkpoint_best/mc-dropout-gens-lowcomet_w_bicleaner/mts-word-dropout_w_bicleaner.pkl\", \"rb\") as f:\n",
    "    x = pickle.load(f)"
   ]
  },
  {
   "cell_type": "code",
   "execution_count": 47,
   "metadata": {},
   "outputs": [
    {
     "data": {
      "text/plain": [
       "['After all, some of them have been covered with plutonium, for the preparation of the nuclear weapons programme.',\n",
       " 'Indeed, some of them were buried with plutonium to prepare the nuclear weapons programme.',\n",
       " 'After all, some of these were plutonium, for the preparation of the nuclear-weapon programme.',\n",
       " 'They were, in fact, partly buried with plutonium, for the preparation of the nuclear weapons programme.',\n",
       " 'After all, they were partly buried with plutonium, for the preparation of the nuclear weapons programme.',\n",
       " 'Indeed, they were partly filled with plutonium, for the preparation of the nuclear weapons programme.',\n",
       " 'In fact, they were partly covered with plutonium, in the preparation of the nuclear weapons programme.',\n",
       " 'After all, some of them were poured with plutonium, in order to prepare the nuclear weapons program.',\n",
       " 'After all, some of them have been plutonium-based, for the preparation of the nuclear weapons programme.',\n",
       " 'After all, these were partly covered with plutonium, for the preparation of the nuclear weapons programme.',\n",
       " 'The fact is that they were partly covered with plutonium, for the preparation of the nuclear weapons programme.',\n",
       " 'After all, they have been partly filled with plutonium, for the preparation of the nuclear weapons programme.',\n",
       " 'After all, some of them were plutonium in preparation for the nuclear weapons programme.',\n",
       " 'They were, in part, plutonium, for the preparation of the nuclear weapons programme.',\n",
       " 'In fact, some of them have been plutonium, in preparation of the nuclear weapons programme.',\n",
       " 'They were partly plutonium, for the preparation of the nuclear weapons programme.']"
      ]
     },
     "execution_count": 47,
     "metadata": {},
     "output_type": "execute_result"
    }
   ],
   "source": [
    "x[idx[0]]"
   ]
  },
  {
   "cell_type": "code",
   "execution_count": null,
   "metadata": {},
   "outputs": [],
   "source": []
  }
 ],
 "metadata": {
  "kernelspec": {
   "display_name": "hall-env",
   "language": "python",
   "name": "hall-env"
  },
  "language_info": {
   "codemirror_mode": {
    "name": "ipython",
    "version": 3
   },
   "file_extension": ".py",
   "mimetype": "text/x-python",
   "name": "python",
   "nbconvert_exporter": "python",
   "pygments_lexer": "ipython3",
   "version": "3.8.10"
  }
 },
 "nbformat": 4,
 "nbformat_minor": 2
}
