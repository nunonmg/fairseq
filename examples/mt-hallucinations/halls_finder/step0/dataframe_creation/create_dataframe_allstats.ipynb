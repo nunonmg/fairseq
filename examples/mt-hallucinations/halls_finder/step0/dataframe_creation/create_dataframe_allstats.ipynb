{
 "cells": [
  {
   "cell_type": "code",
   "execution_count": 1,
   "metadata": {},
   "outputs": [],
   "source": [
    "import pandas as pd \n",
    "import numpy as np \n",
    "import pickle\n",
    "from tqdm import tqdm\n",
    "from sacrebleu import CHRF\n",
    "chrf = CHRF(lowercase=True)\n",
    "chrf.BETA = 2"
   ]
  },
  {
   "cell_type": "code",
   "execution_count": 2,
   "metadata": {},
   "outputs": [],
   "source": [
    "def compute_chrf2(dataframe):\n",
    "    chrf2_sentence = []\n",
    "    for i in tqdm(range(len(dataframe))):\n",
    "        hyp = dataframe[\"mt\"][i]\n",
    "        ref = dataframe[\"ref\"][i]\n",
    "        assert type(hyp) == str\n",
    "        assert type(ref) == str\n",
    "        chrf2_sentence.append(chrf.sentence_score(hyp, [ref]).score)\n",
    "    return chrf2_sentence"
   ]
  },
  {
   "cell_type": "code",
   "execution_count": 11,
   "metadata": {},
   "outputs": [],
   "source": [
    "def process_df(lp: \"str\", ckpt: \"str\"):\n",
    "    model_path = \"/home/nunomg/mt-hallucinations/HALO/fairseq/data-bin/wmt18_\" + lp + \"_heldout/\" + ckpt\n",
    "    stats_path = model_path + \"/stats/\"\n",
    "    heldoutwstats_save_path = model_path + \"/dataframes/heldoutwstats_bicleaner.pkl\"\n",
    "    lowcomet_save_path = model_path + \"/dataframes/heldout_lowcomet_w_bicleaner.pkl\"\n",
    "    lowlaser_save_path = model_path + \"/dataframes/heldout_lowlaser_w_bicleaner.pkl\"\n",
    "    \n",
    "    df = pd.read_pickle(model_path + \"/dataframes/dataframe_test_beam5.pkl\")\n",
    "    \n",
    "    with open(stats_path + \"comet_qe_da_scores.pkl\", \"rb\") as f:\n",
    "        comet = pickle.load(f)\n",
    "    df[\"comet-qe\"] = comet\n",
    "\n",
    "    with open(stats_path + \"laser_scores.pkl\", \"rb\") as f:\n",
    "        comet = pickle.load(f)\n",
    "    df[\"laser\"] = comet\n",
    "\n",
    "    chrf_values = compute_chrf2(df)\n",
    "    df[\"chrf2\"] = chrf_values\n",
    "\n",
    "    with open(stats_path + \"f1_scores.pkl\", \"rb\") as f:\n",
    "        f1 = pickle.load(f)\n",
    "    df[\"f1_bpe\"] = f1\n",
    "\n",
    "    with open(stats_path + \"f2_scores.pkl\", \"rb\") as f:\n",
    "        f2 = pickle.load(f)\n",
    "    df[\"f2_bpe\"] = f2\n",
    "\n",
    "    with open(stats_path + \"rep_scores.pkl\", \"rb\") as f:\n",
    "        repscore = pickle.load(f)\n",
    "    df[\"repscore_bpe\"]= repscore\n",
    "    \n",
    "    with open(stats_path + \"f1_scores_str.pkl\", \"rb\") as f:\n",
    "        f1 = pickle.load(f)\n",
    "    df[\"f1_word\"] = f1\n",
    "\n",
    "    with open(stats_path + \"f2_scores_str.pkl\", \"rb\") as f:\n",
    "        f2 = pickle.load(f)\n",
    "    df[\"f2_word\"] = f2\n",
    "\n",
    "    with open(stats_path + \"repscores_str.pkl\", \"rb\") as f:\n",
    "        repscore = pickle.load(f)\n",
    "    df[\"repscore_word\"]= repscore\n",
    "    \n",
    "    idxs = []\n",
    "    for i in tqdm(df.index.values):\n",
    "        if 3 in df.loc[i][\"src_ids\"]:\n",
    "            idxs.append(i)\n",
    "\n",
    "    unk_flags = np.zeros(len(df))\n",
    "    for i in tqdm(df.index.values):\n",
    "        if i in idxs:\n",
    "            unk_flags[i] = int(1)\n",
    "    unk_flags = [int(val) for val in unk_flags]\n",
    "    df[\"unk_flag\"] = unk_flags\n",
    "\n",
    "    with open(\"/home/nunomg/bicleaner/heldout_wmt18/\" + lp + \"/\" + lp + \".bicleaner.classified\", \"r\") as f:\n",
    "        x_class = f.read().splitlines()\n",
    "    xs_de = []\n",
    "    xs_en = []\n",
    "    scores = []\n",
    "    for line in x_class:\n",
    "        line_split = line.split(\"\\t\")\n",
    "        scores.append(float(line_split[-1]))\n",
    "    bicleaner_scores = []\n",
    "    for idx in df[\"idx\"].values:\n",
    "        bicleaner_scores.append(scores[idx])\n",
    "    df[\"bicleaner_score\"] = bicleaner_scores\n",
    "    \n",
    "    df_nodup = df.drop_duplicates(subset=\"src\")\n",
    "    df_nodup = df_nodup.loc[df_nodup[\"unk_flag\"]==0]\n",
    "    df_nodup = df_nodup.loc[df_nodup[\"bicleaner_score\"]>=0.5]\n",
    "    \n",
    "    df_nodup.to_pickle(heldoutwstats_save_path)\n",
    "    print(\"Heldout with stats saved.\")\n",
    "    \n",
    "    df_lowcomet = df_nodup.sort_values(by=\"comet-qe\")[:10000].sort_index()\n",
    "    df_lowcomet.to_pickle(lowcomet_save_path)\n",
    "    print(\"Low COMET-QE with stats saved.\")\n",
    "\n",
    "    df_laser = df_nodup.sort_values(by=\"laser\")[:10000].sort_index()\n",
    "    df_laser.to_pickle(lowlaser_save_path)\n",
    "    print(\"Low LASER with stats saved.\")"
   ]
  },
  {
   "cell_type": "code",
   "execution_count": 12,
   "metadata": {},
   "outputs": [
    {
     "name": "stderr",
     "output_type": "stream",
     "text": [
      "100%|██████████| 1941913/1941913 [10:12<00:00, 3169.30it/s]\n",
      "100%|██████████| 1941913/1941913 [02:48<00:00, 11519.89it/s]\n",
      "100%|██████████| 1941913/1941913 [00:06<00:00, 299424.94it/s]\n"
     ]
    },
    {
     "name": "stdout",
     "output_type": "stream",
     "text": [
      "Heldout with stats saved.\n",
      "Low COMET-QE with stats saved.\n",
      "Low LASER with stats saved.\n"
     ]
    }
   ],
   "source": [
    "process_df(\"de-en\", \"checkpoint_best\")"
   ]
  },
  {
   "cell_type": "code",
   "execution_count": 5,
   "metadata": {},
   "outputs": [
    {
     "name": "stderr",
     "output_type": "stream",
     "text": [
      "100%|██████████| 827858/827858 [04:30<00:00, 3056.39it/s] \n",
      "100%|██████████| 827858/827858 [01:13<00:00, 11234.09it/s]\n",
      "100%|██████████| 827858/827858 [00:08<00:00, 103141.92it/s]\n"
     ]
    },
    {
     "name": "stdout",
     "output_type": "stream",
     "text": [
      "Heldout with stats saved.\n",
      "Lowcomet with stats saved.\n"
     ]
    }
   ],
   "source": [
    "process_df(\"en-ru\", \"checkpoint_best\")"
   ]
  },
  {
   "cell_type": "code",
   "execution_count": 7,
   "metadata": {},
   "outputs": [],
   "source": [
    "df = pd.read_pickle(\"/home/nunomg/mt-hallucinations/HALO/fairseq/data-bin/wmt18_de-en_heldout/checkpoint_best/dataframes/heldoutwstats_w_bicleaner.pkl\")"
   ]
  },
  {
   "cell_type": "code",
   "execution_count": null,
   "metadata": {},
   "outputs": [],
   "source": [
    "lp = \"de-en\"\n",
    "ckpt = \"checkpoint_best\"\n",
    "\n",
    "model_path = \"/home/nunomg/mt-hallucinations/HALO/fairseq/data-bin/wmt18_\" + lp + \"_heldout/\" + ckpt\n",
    "stats_path = model_path + \"/stats/\"\n",
    "attn_list = {}\n",
    "with open(stats_path + \"stats_test_attention_beam5.pkl\", 'rb') as f:\n",
    "    x_attn = pickle.load(f)\n",
    "\n",
    "df = pd.read_pickle(model_path + \"/dataframes/dataframe_test_beam5.pkl\")\n",
    "\n",
    "attn_samples = []\n",
    "token_logprobs_samples = []\n",
    "for idx in tqdm(df.index.values):\n",
    "    src_len = len(df.loc[idx][\"src_ids\"])\n",
    "    mt_len = len(df.loc[idx][\"mt_ids\"])\n",
    "    attn = np.array(x_attn[idx])\n",
    "    if attn.shape != (src_len, mt_len):\n",
    "        attn = attn[~np.all(attn == 0, axis=1)]\n",
    "    assert attn.shape == (src_len, mt_len)\n",
    "    attn_samples.append(attn)\n",
    "\n",
    "with open(stats_path + \"stats_test_attention_beam5_proc.pkl\", \"wb\") as f:\n",
    "    pickle.dump(attn_samples, f)"
   ]
  }
 ],
 "metadata": {
  "kernelspec": {
   "display_name": "hall-env",
   "language": "python",
   "name": "hall-env"
  },
  "language_info": {
   "codemirror_mode": {
    "name": "ipython",
    "version": 3
   },
   "file_extension": ".py",
   "mimetype": "text/x-python",
   "name": "python",
   "nbconvert_exporter": "python",
   "pygments_lexer": "ipython3",
   "version": "3.8.10"
  }
 },
 "nbformat": 4,
 "nbformat_minor": 2
}
